{
 "cells": [
  {
   "cell_type": "markdown",
   "metadata": {},
   "source": [
    "# Python 基础语法"
   ]
  },
  {
   "cell_type": "markdown",
   "metadata": {},
   "source": [
    "## 输入与输出"
   ]
  },
  {
   "cell_type": "code",
   "execution_count": 2,
   "metadata": {
    "tags": []
   },
   "outputs": [
    {
     "output_type": "stream",
     "name": "stdout",
     "text": "hello,Lin\nsum = 200\n"
    }
   ],
   "source": [
    "name = input(\"What's your name?\")\n",
    "sum = 100+100\n",
    "print ('hello,%s' %name)\n",
    "print ('sum = %d' %sum)"
   ]
  },
  {
   "cell_type": "markdown",
   "metadata": {},
   "source": [
    "## 判断语句：if … else …\n",
    "```\n",
    "if score>= 90:\n",
    "       print 'Excellent'\n",
    "else:\n",
    "       if score < 60:\n",
    "           print 'Fail'\n",
    "       else:\n",
    "           print 'Good Job'\n",
    "```"
   ]
  },
  {
   "cell_type": "markdown",
   "metadata": {},
   "source": [
    "## 循环语句：for … in"
   ]
  },
  {
   "cell_type": "code",
   "execution_count": 6,
   "metadata": {
    "tags": []
   },
   "outputs": [
    {
     "output_type": "stream",
     "name": "stdout",
     "text": "55\n"
    }
   ],
   "source": [
    "sum = 0\n",
    "for number in range(11):\n",
    "    sum = sum + number\n",
    "print (sum)"
   ]
  },
  {
   "cell_type": "markdown",
   "metadata": {},
   "source": [
    "## 循环语句: while"
   ]
  },
  {
   "cell_type": "code",
   "execution_count": 7,
   "metadata": {
    "tags": []
   },
   "outputs": [
    {
     "output_type": "stream",
     "name": "stdout",
     "text": "55\n"
    }
   ],
   "source": [
    "sum = 0\n",
    "number = 1\n",
    "while number < 11:\n",
    "       sum = sum + number\n",
    "       number = number + 1\n",
    "print (sum)"
   ]
  },
  {
   "cell_type": "markdown",
   "metadata": {},
   "source": [
    "## 数据类型：列表、元组、字典、集合"
   ]
  },
  {
   "cell_type": "markdown",
   "metadata": {},
   "source": [
    "### 列表：[]"
   ]
  },
  {
   "cell_type": "code",
   "execution_count": 11,
   "metadata": {
    "tags": []
   },
   "outputs": [
    {
     "output_type": "stream",
     "name": "stdout",
     "text": "['a', 'b', 'c', 'd']\n4\n['mm', 'a', 'b', 'c']\n"
    }
   ],
   "source": [
    "lists = ['a','b','c']\n",
    "lists.append('d')\n",
    "print (lists)\n",
    "print (len(lists))\n",
    "lists.insert(0,'mm')\n",
    "lists.pop()\n",
    "print (lists)"
   ]
  },
  {
   "cell_type": "markdown",
   "metadata": {},
   "source": [
    "### 元组 (tuple)"
   ]
  },
  {
   "cell_type": "code",
   "execution_count": 10,
   "metadata": {
    "tags": []
   },
   "outputs": [
    {
     "output_type": "stream",
     "name": "stdout",
     "text": "tupleA\n"
    }
   ],
   "source": [
    "tuples = ('tupleA','tupleB')\n",
    "print (tuples[0])"
   ]
  },
  {
   "cell_type": "markdown",
   "metadata": {},
   "source": [
    "### 字典 {dictionary}"
   ]
  },
  {
   "cell_type": "code",
   "execution_count": 12,
   "metadata": {
    "tags": []
   },
   "outputs": [
    {
     "output_type": "stream",
     "name": "stdout",
     "text": "{'guanyu': 95, 'zhangfei': 96, 'zhaoyun': 98}\nTrue\n95\n99\n"
    }
   ],
   "source": [
    "\n",
    "# -*- coding: utf-8 -*\n",
    "#定义一个dictionary\n",
    "score = {'guanyu':95,'zhangfei':96}\n",
    "#添加一个元素\n",
    "score['zhaoyun'] = 98\n",
    "print (score)\n",
    "#删除一个元素\n",
    "score.pop('zhangfei')\n",
    "#查看key是否存在\n",
    "print ('guanyu' in score)\n",
    "#查看一个key对应的值\n",
    "print (score.get('guanyu'))\n",
    "print (score.get('yase',99))"
   ]
  },
  {
   "cell_type": "markdown",
   "metadata": {},
   "source": [
    "### 集合：set"
   ]
  },
  {
   "cell_type": "code",
   "execution_count": 13,
   "metadata": {
    "tags": []
   },
   "outputs": [
    {
     "output_type": "stream",
     "name": "stdout",
     "text": "{'d', 'c', 'a'}\nTrue\n"
    }
   ],
   "source": [
    "s = set(['a', 'b', 'c'])\n",
    "s.add('d')\n",
    "s.remove('b')\n",
    "print (s)\n",
    "print ('c' in s)"
   ]
  },
  {
   "cell_type": "markdown",
   "metadata": {},
   "source": [
    "### 注释： ```#```"
   ]
  },
  {
   "cell_type": "code",
   "execution_count": null,
   "metadata": {},
   "outputs": [],
   "source": [
    "# -*- coding: utf-8 -*\n",
    "'''\n",
    "这是多行注释，用三个单引号\n",
    "这是多行注释，用三个单引号 \n",
    "这是多行注释，用三个单引号\n",
    "'''"
   ]
  },
  {
   "cell_type": "markdown",
   "metadata": {},
   "source": [
    "### 引用模块 / 包：import\n",
    "\n",
    "```\n",
    "# 导入一个模块\n",
    "import model_name\n",
    "# 导入多个模块\n",
    "import module_name1,module_name2\n",
    "# 导入包中指定模块 \n",
    "from package_name import moudule_name\n",
    "# 导入包中所有模块 \n",
    "from package_name import *\n",
    "```"
   ]
  },
  {
   "cell_type": "markdown",
   "metadata": {},
   "source": [
    "### 函数：def"
   ]
  },
  {
   "cell_type": "code",
   "execution_count": 15,
   "metadata": {
    "tags": []
   },
   "outputs": [
    {
     "output_type": "stream",
     "name": "stdout",
     "text": "100\n"
    }
   ],
   "source": [
    "def addone(score):\n",
    "   return score + 1\n",
    "print (addone(99))"
   ]
  },
  {
   "cell_type": "markdown",
   "metadata": {},
   "source": [
    "# NumPy\n",
    "列表 list 的元素在系统内存中是分散存储的，而 NumPy 数组存储在一个均匀连续的内存块中。这样数组计算遍历所有的元素，不像列表 list 还需要对内存地址进行查找，从而节省了计算资源。\n",
    "\n",
    "在内存访问模式中，缓存会直接把字节块从 RAM 加载到 CPU 寄存器中。因为数据连续的存储在内存中，NumPy 直接利用现代 CPU 的矢量化指令计算，加载寄存器中的多个连续浮点数。另外 NumPy 中的矩阵计算可以采用多线程的方式，充分利用多核 CPU 计算资源，大大提升了计算效率。"
   ]
  },
  {
   "cell_type": "markdown",
   "metadata": {},
   "source": [
    "## ndarray 对象\n",
    "ndarray 实际上是多维数组的含义。在 NumPy 数组中，维数称为秩（rank），一维数组的秩为 1，二维数组的秩为 2，以此类推。在 NumPy 中，每一个线性的数组称为一个轴（axes），其实秩就是描述轴的数量。\n",
    "* __ axis=0 是跨行（纵向），axis=1 是跨列（横向） __"
   ]
  },
  {
   "cell_type": "code",
   "execution_count": 18,
   "metadata": {
    "tags": []
   },
   "outputs": [
    {
     "output_type": "stream",
     "name": "stdout",
     "text": "(3,)\n(3, 3)\nint32\n[[ 1  2  3]\n [ 4 10  6]\n [ 7  8  9]]\n"
    }
   ],
   "source": [
    "import numpy as np\n",
    "a = np.array([1, 2, 3])\n",
    "b = np.array([[1, 2, 3], [4, 5, 6], [7, 8, 9]])\n",
    "b[1,1]=10\n",
    "print (a.shape) # 通过函数 shape 属性获得数组的大小\n",
    "print (b.shape)\n",
    "print (a.dtype) # 通过 dtype 获得元素的属性\n",
    "print (b)"
   ]
  },
  {
   "cell_type": "markdown",
   "metadata": {},
   "source": [
    "## 结构数组"
   ]
  },
  {
   "cell_type": "code",
   "execution_count": 19,
   "metadata": {
    "tags": []
   },
   "outputs": [
    {
     "output_type": "stream",
     "name": "stdout",
     "text": "28.25\n77.5\n93.25\n93.75\n"
    }
   ],
   "source": [
    "import numpy as np\n",
    "persontype = np.dtype({ # 定义结构类型\n",
    "    'names':['name', 'age', 'chinese', 'math', 'english'],\n",
    "    'formats':['S32','i', 'i', 'i', 'f']})\n",
    "peoples = np.array([(\"ZhangFei\",32,75,100, 90),(\"GuanYu\",24,85,96,88.5),\n",
    "       (\"ZhaoYun\",28,85,92,96.5),(\"HuangZhong\",29,65,85,100)],\n",
    "    dtype=persontype) # dtype=persontype 指定结构数组的类型\n",
    "ages = peoples[:]['age']\n",
    "chineses = peoples[:]['chinese']\n",
    "maths = peoples[:]['math']\n",
    "englishs = peoples[:]['english']\n",
    "print (np.mean(ages))\n",
    "print (np.mean(chineses))\n",
    "print (np.mean(maths))\n",
    "print (np.mean(englishs))"
   ]
  },
  {
   "cell_type": "markdown",
   "metadata": {},
   "source": [
    "## ufunc 运算\n",
    "ufunc 是 universal function 的缩写,它能对数组中每个元素进行函数操作。NumPy 中很多 ufunc 函数计算速度非常快，因为都是采用 C 语言实现的。"
   ]
  },
  {
   "cell_type": "markdown",
   "metadata": {},
   "source": [
    "## 连续数组的创建"
   ]
  },
  {
   "cell_type": "code",
   "execution_count": 22,
   "metadata": {
    "tags": []
   },
   "outputs": [
    {
     "output_type": "stream",
     "name": "stdout",
     "text": "[1 3 5 7 9]\n[1. 3. 5. 7. 9.]\n"
    }
   ],
   "source": [
    "x1 = np.arange(1,11,2) # arange() 类似内置函数 range()，通过指定初始值、终值、步长来创建等差数列的一维数组，默认是不包括终值的。\n",
    "x2 = np.linspace(1,9,5) # linspace 是 linear space 的缩写，代表线性等分向量的含义。linspace() 通过指定初始值、终值、元素个数来创建等差数列的一维数组，默认是包括终值的。\n",
    "\n",
    "print(x1)\n",
    "print(x2)"
   ]
  },
  {
   "cell_type": "markdown",
   "metadata": {},
   "source": [
    "## 算数运算"
   ]
  },
  {
   "cell_type": "code",
   "execution_count": 26,
   "metadata": {
    "tags": []
   },
   "outputs": [
    {
     "output_type": "stream",
     "name": "stdout",
     "text": "[ 2.  6. 10. 14. 18.]\n[0. 0. 0. 0. 0.]\n[ 1.  9. 25. 49. 81.]\n[1. 1. 1. 1. 1.]\n[1.00000000e+00 2.70000000e+01 3.12500000e+03 8.23543000e+05\n 3.87420489e+08]\n[0. 0. 0. 0. 0.]\n"
    }
   ],
   "source": [
    "x1 = np.arange(1,11,2)\n",
    "x2 = np.linspace(1,9,5)\n",
    "print (np.add(x1, x2))\n",
    "print (np.subtract(x1, x2))\n",
    "print (np.multiply(x1, x2))\n",
    "print (np.divide(x1, x2))\n",
    "print (np.power(x1, x2))\n",
    "print (np.remainder(x1, x2)) # = np.mod(x1, x2)"
   ]
  },
  {
   "cell_type": "markdown",
   "metadata": {},
   "source": [
    "## 统计函数"
   ]
  },
  {
   "cell_type": "markdown",
   "metadata": {},
   "source": [
    "### 计数组 / 矩阵中的最大值函数 amax()，最小值函数 amin()"
   ]
  },
  {
   "cell_type": "code",
   "execution_count": 27,
   "metadata": {
    "tags": []
   },
   "outputs": [
    {
     "output_type": "stream",
     "name": "stdout",
     "text": "1\n[1 2 3]\n[1 4 7]\n9\n[7 8 9]\n[3 6 9]\n"
    }
   ],
   "source": [
    "import numpy as np\n",
    "a = np.array([[1,2,3], [4,5,6], [7,8,9]])\n",
    "print (np.amin(a))\n",
    "print (np.amin(a,0)) # amin(a,0) 是延着 axis=0 轴的最小值 [1,4,7], [2,5,8], [3,6,9]\n",
    "print (np.amin(a,1)) # amin(a,1) 是延着 axis=1 轴的最小值 [1,2,3], [4,5,6], [7,8,9]\n",
    "print (np.amax(a))\n",
    "print (np.amax(a,0))\n",
    "print (np.amax(a,1))"
   ]
  },
  {
   "cell_type": "markdown",
   "metadata": {},
   "source": [
    "### 统计最大值与最小值之差 ptp()"
   ]
  },
  {
   "cell_type": "code",
   "execution_count": 28,
   "metadata": {
    "tags": []
   },
   "outputs": [
    {
     "output_type": "stream",
     "name": "stdout",
     "text": "8\n[6 6 6]\n[2 2 2]\n"
    }
   ],
   "source": [
    "a = np.array([[1,2,3], [4,5,6], [7,8,9]])\n",
    "print (np.ptp(a))\n",
    "print (np.ptp(a,0))\n",
    "print (np.ptp(a,1))"
   ]
  },
  {
   "cell_type": "markdown",
   "metadata": {},
   "source": [
    "### 统计数组的百分位数 percentile()\n",
    "percentile() 代表着第 p 个百分位数，这里 p 的取值范围是 0-100，如果 p=0，那么就是求最小值，如果 p=50 就是求平均值，如果 p=100 就是求最大值。同样你也可以求得在 axis=0 和 axis=1 两个轴上的 p% 的百分位数"
   ]
  },
  {
   "cell_type": "code",
   "execution_count": 29,
   "metadata": {
    "tags": []
   },
   "outputs": [
    {
     "output_type": "stream",
     "name": "stdout",
     "text": "5.0\n[4. 5. 6.]\n[2. 5. 8.]\n"
    }
   ],
   "source": [
    "a = np.array([[1,2,3], [4,5,6], [7,8,9]])\n",
    "print (np.percentile(a, 50))\n",
    "print (np.percentile(a, 50, axis=0))\n",
    "print (np.percentile(a, 50, axis=1))"
   ]
  },
  {
   "cell_type": "markdown",
   "metadata": {},
   "source": [
    "### 统计数组中的中位数 median()、平均数 mean()"
   ]
  },
  {
   "cell_type": "code",
   "execution_count": 30,
   "metadata": {
    "tags": []
   },
   "outputs": [
    {
     "output_type": "stream",
     "name": "stdout",
     "text": "5.0\n[4. 5. 6.]\n[2. 5. 8.]\n5.0\n[4. 5. 6.]\n[2. 5. 8.]\n"
    }
   ],
   "source": [
    "a = np.array([[1,2,3], [4,5,6], [7,8,9]])\n",
    "#求中位数\n",
    "print (np.median(a))\n",
    "print (np.median(a, axis=0))\n",
    "print (np.median(a, axis=1))\n",
    "#求平均数\n",
    "print (np.mean(a))\n",
    "print (np.mean(a, axis=0))\n",
    "print (np.mean(a, axis=1))"
   ]
  },
  {
   "cell_type": "markdown",
   "metadata": {},
   "source": [
    "### 统计数组中的加权平均值 average()\n",
    "average() 函数可以求加权平均，加权平均的意思就是每个元素可以设置个权重，默认情况下每个元素的权重是相同的，\n",
    "所以 ```np.average(a)=(1+2+3+4)/4=2.5```，\n",
    "你也可以指定权重数组 ```wts=[1,2,3,4]```，\n",
    "这样加权平均 ```np.average(a,weights=wts)=(1*1+2*2+3*3+4*4)/(1+2+3+4)=3.0```。"
   ]
  },
  {
   "cell_type": "code",
   "execution_count": 31,
   "metadata": {
    "tags": []
   },
   "outputs": [
    {
     "output_type": "stream",
     "name": "stdout",
     "text": "2.5\n3.0\n"
    }
   ],
   "source": [
    "a = np.array([1,2,3,4])\n",
    "wts = np.array([1,2,3,4])\n",
    "print (np.average(a))\n",
    "print (np.average(a,weights=wts))"
   ]
  },
  {
   "cell_type": "markdown",
   "metadata": {},
   "source": [
    "### 统计数组中的标准差 std()、方差 var()\n",
    "方差的计算是指每个数值与平均值之差的平方求和的平均值，即 ```mean((x - x.mean())** 2)```。标准差是方差的算术平方根。在数学意义上，代表的是一组数据离平均值的分散程度。所以 ```np.var(a)=1.25```, ```np.std(a)=1.118033988749895```。"
   ]
  },
  {
   "cell_type": "code",
   "execution_count": 32,
   "metadata": {
    "tags": []
   },
   "outputs": [
    {
     "output_type": "stream",
     "name": "stdout",
     "text": "1.118033988749895\n1.25\n"
    }
   ],
   "source": [
    "a = np.array([1,2,3,4])\n",
    "print (np.std(a))\n",
    "print (np.var(a))"
   ]
  },
  {
   "cell_type": "markdown",
   "metadata": {},
   "source": [
    "## NumPy 排序"
   ]
  },
  {
   "cell_type": "code",
   "execution_count": 33,
   "metadata": {
    "tags": []
   },
   "outputs": [
    {
     "output_type": "stream",
     "name": "stdout",
     "text": "[[2 3 4]\n [1 2 4]]\n[1 2 2 3 4 4]\n[[2 3 1]\n [4 4 2]]\n[[2 3 4]\n [1 2 4]]\n"
    }
   ],
   "source": [
    "a = np.array([[4,3,2],[2,4,1]])\n",
    "print (np.sort(a))\n",
    "print (np.sort(a, axis=None))\n",
    "print (np.sort(a, axis=0))  \n",
    "print (np.sort(a, axis=1))  "
   ]
  },
  {
   "cell_type": "markdown",
   "metadata": {},
   "source": [
    "# Python科学计算：Pandas"
   ]
  },
  {
   "cell_type": "markdown",
   "metadata": {},
   "source": [
    "## 数据结构：Series 和 DataFrame\n",
    "* __Series__ 是个 __定长的字典序列__ 。说是定长是因为在存储的时候，相当于两个 ndarray，这也是和字典结构最大的不同。因为在字典的结构里，元素的个数是不固定的。\n",
    "* Series 有两个基本属性：index 和 values。在 Series 结构中，index 默认是 0,1,2,……递增的整数序列，当然我们也可以自己来指定索引，比如 ```index=[‘a’, ‘b’, ‘c’, ‘d’]```。\n",
    "* __DataFrame 类型数据结构类似数据库表__ 它包括了行索引和列索引，我们可以将 DataFrame 看成是由相同索引的 Series 组成的字典类型。"
   ]
  },
  {
   "cell_type": "code",
   "execution_count": 39,
   "metadata": {
    "tags": []
   },
   "outputs": [
    {
     "output_type": "stream",
     "name": "stdout",
     "text": "0    1\n1    2\n2    3\n3    4\ndtype: int64\na    1\nb    2\nc    3\nd    4\ndtype: int64\na    1\nb    2\nc    3\nd    4\ndtype: int64\n"
    }
   ],
   "source": [
    "import pandas as pd\n",
    "from pandas import Series, DataFrame\n",
    "x1 = Series([1,2,3,4])\n",
    "x2 = Series(data=[1,2,3,4], index=['a', 'b', 'c', 'd'])\n",
    "print (x1)\n",
    "print (x2)\n",
    "\n",
    "# 采用字典的方式来创建 Series\n",
    "d = {'a':1, 'b':2, 'c':3, 'd':4}\n",
    "x3 = Series(d)\n",
    "print (x3) "
   ]
  },
  {
   "cell_type": "code",
   "execution_count": 45,
   "metadata": {
    "tags": []
   },
   "outputs": [
    {
     "output_type": "stream",
     "name": "stdout",
     "text": "Chinese  English  Math\n0       66       65    30\n1       95       85    98\n2       93       92    96\n3       90       88    77\n4       80       90    90\n            English  Math  Chinese\nZhangFei         65    30       66\nGuanYu           85    98       95\nZhaoYun          92    96       93\nHuangZhong       88    77       90\nDianWei          90    90       80\n"
    }
   ],
   "source": [
    "import pandas as pd\n",
    "from pandas import Series, DataFrame\n",
    "data = {'Chinese': [66, 95, 93, 90,80],'English': [65, 85, 92, 88, 90],'Math': [30, 98, 96, 77, 90]}\n",
    "df1= DataFrame(data)\n",
    "df2 = DataFrame(data, index=['ZhangFei', 'GuanYu', 'ZhaoYun', 'HuangZhong', 'DianWei'], columns=['English', 'Math', 'Chinese'])\n",
    "print (df1)\n",
    "print (df2)"
   ]
  },
  {
   "cell_type": "markdown",
   "metadata": {},
   "source": [
    "## 数据导入和输出"
   ]
  },
  {
   "cell_type": "code",
   "execution_count": null,
   "metadata": {},
   "outputs": [],
   "source": [
    "# import pandas as pd\n",
    "# from pandas import Series, DataFrame\n",
    "# score = DataFrame(pd.read_excel('data.xlsx'))\n",
    "# score.to_excel('data1.xlsx')\n",
    "# print score"
   ]
  },
  {
   "cell_type": "markdown",
   "metadata": {},
   "source": [
    "## 数据清洗"
   ]
  },
  {
   "cell_type": "markdown",
   "metadata": {},
   "source": [
    "1. 删除 DataFrame 中的不必要的列或行\n",
    "\n",
    "Pandas 提供了一个便捷的方法 drop() 函数来删除我们不想要的列或行。"
   ]
  },
  {
   "cell_type": "code",
   "execution_count": 46,
   "metadata": {
    "tags": []
   },
   "outputs": [
    {
     "output_type": "stream",
     "name": "stdout",
     "text": "English  Math\nZhangFei         65    30\nGuanYu           85    98\nZhaoYun          92    96\nHuangZhong       88    77\nDianWei          90    90\n            English  Math\nGuanYu           85    98\nZhaoYun          92    96\nHuangZhong       88    77\nDianWei          90    90\n"
    }
   ],
   "source": [
    "# 把“语文”这列删掉\n",
    "df2 = df2.drop(columns=['Chinese'])\n",
    "print(df2)\n",
    "\n",
    "# 把“张飞”这行删掉\n",
    "df2 = df2.drop(index=['ZhangFei'])\n",
    "print(df2)"
   ]
  },
  {
   "cell_type": "markdown",
   "metadata": {},
   "source": [
    "* 重命名列名 columns，让列表名更容易识别\n",
    "\n",
    "rename(columns=new_names, inplace=True)"
   ]
  },
  {
   "cell_type": "code",
   "execution_count": 47,
   "metadata": {
    "tags": []
   },
   "outputs": [
    {
     "output_type": "stream",
     "name": "stdout",
     "text": "Yingyu  Math\nGuanYu          85    98\nZhaoYun         92    96\nHuangZhong      88    77\nDianWei         90    90\n"
    }
   ],
   "source": [
    "df2.rename(columns={'Chinese': 'YuWen', 'English': 'Yingyu'}, inplace = True)\n",
    "print(df2)"
   ]
  },
  {
   "cell_type": "markdown",
   "metadata": {},
   "source": [
    "3. 去重复的值\n",
    "\n",
    "drop_duplicates()"
   ]
  },
  {
   "cell_type": "code",
   "execution_count": null,
   "metadata": {},
   "outputs": [],
   "source": [
    "df = df.drop_duplicates() #去除重复行"
   ]
  },
  {
   "cell_type": "markdown",
   "metadata": {},
   "source": [
    "4. 格式问题"
   ]
  },
  {
   "cell_type": "code",
   "execution_count": null,
   "metadata": {},
   "outputs": [],
   "source": [
    "# 更改数据格式\n",
    "df2['Chinese'].astype('str') \n",
    "df2['Chinese'].astype(np.int64) \n",
    "\n",
    "# 数据间的空格\n",
    "#删除左右两边空格\n",
    "df2['Chinese']=df2['Chinese'].map(str.strip)\n",
    "#删除左边空格\n",
    "df2['Chinese']=df2['Chinese'].map(str.lstrip)\n",
    "#删除右边空格\n",
    "df2['Chinese']=df2['Chinese'].map(str.rstrip)\n",
    "\n",
    "# 删除特殊符号 比如美元符号\n",
    "df2['Chinese']=df2['Chinese'].str.strip('$')\n",
    "\n",
    "# 大小写转换\n",
    "#全部大写\n",
    "df2.columns = df2.columns.str.upper()\n",
    "#全部小写\n",
    "df2.columns = df2.columns.str.lower()\n",
    "#首字母大写\n",
    "df2.columns = df2.columns.str.title()\n",
    "\n",
    "# 查找空值\n",
    "#哪个地方存在空值 NaN，可以针对数据表 df 进行 df.isnull()\n",
    "#想知道哪列存在空值，可以使用 df.isnull().any()"
   ]
  },
  {
   "cell_type": "markdown",
   "metadata": {},
   "source": [
    "## 使用 apply 函数对数据进行清洗"
   ]
  },
  {
   "cell_type": "code",
   "execution_count": 48,
   "metadata": {},
   "outputs": [],
   "source": [
    "# 对 name 列的数值都进行大写转化\n",
    "df['name'] = df['name'].apply(str.upper)\n",
    "\n",
    "# 定义个函数，在 apply 中进行使用。\n",
    "# 比如定义 double_df 函数是将原来的数值 *2 进行返回。然后对 df1 中的“语文”列的数值进行 *2 处理，可以写成\n",
    "def double_df(x):\n",
    "           return 2*x\n",
    "df1[u'语文'] = df1[u'语文'].apply(double_df)\n",
    "\n",
    "# 对于 DataFrame，我们新增两列，其中’new1’列是“语文”和“英语”成绩之和的 m 倍，'new2’列是“语文”和“英语”成绩之和的 n 倍，我们可以这样写：\n",
    "def plus(df,n,m):\n",
    "    df['new1'] = (df[u'语文']+df[u'英语']) * m\n",
    "    df['new2'] = (df[u'语文']+df[u'英语']) * n\n",
    "    return df\n",
    "df1 = df1.apply(plus,axis=1,args=(2,3,)) # axis=1 代表按照列为轴进行操作，axis=0 代表按照行为轴进行操作，args 是传递的两个参数，即 n=2, m=3，在 plus 函数中使用到了 n 和 m，从而生成新的 df。"
   ]
  },
  {
   "cell_type": "markdown",
   "metadata": {},
   "source": [
    "## 数据统计\n"
   ]
  },
  {
   "cell_type": "code",
   "execution_count": 50,
   "metadata": {
    "tags": []
   },
   "outputs": [
    {
     "output_type": "stream",
     "name": "stdout",
     "text": "data1\ncount  5.000000\nmean   2.000000\nstd    1.581139\nmin    0.000000\n25%    1.000000\n50%    2.000000\n75%    3.000000\nmax    4.000000\n"
    }
   ],
   "source": [
    "df1 = DataFrame({'name':['ZhangFei', 'GuanYu', 'a', 'b', 'c'], 'data1':range(5)})\n",
    "print (df1.describe())"
   ]
  },
  {
   "cell_type": "markdown",
   "metadata": {},
   "source": [
    "## 数据表合并"
   ]
  },
  {
   "cell_type": "code",
   "execution_count": 51,
   "metadata": {},
   "outputs": [],
   "source": [
    "df1 = DataFrame({'name':['ZhangFei', 'GuanYu', 'a', 'b', 'c'], 'data1':range(5)})\n",
    "df2 = DataFrame({'name':['ZhangFei', 'GuanYu', 'A', 'B', 'C'], 'data2':range(5)})"
   ]
  },
  {
   "cell_type": "markdown",
   "metadata": {},
   "source": [
    "1. 基于指定列进行连接"
   ]
  },
  {
   "cell_type": "code",
   "execution_count": 53,
   "metadata": {
    "tags": []
   },
   "outputs": [
    {
     "output_type": "stream",
     "name": "stdout",
     "text": "name  data1\n0  ZhangFei      0\n1    GuanYu      1\n2         a      2\n3         b      3\n4         c      4\n       name  data2\n0  ZhangFei      0\n1    GuanYu      1\n2         A      2\n3         B      3\n4         C      4\n       name  data1  data2\n0  ZhangFei      0      0\n1    GuanYu      1      1\n"
    }
   ],
   "source": [
    "df3 = pd.merge(df1, df2, on='name')\n",
    "print(df1)\n",
    "print(df2)\n",
    "print(df3)"
   ]
  },
  {
   "cell_type": "markdown",
   "metadata": {},
   "source": [
    "2. inner 内连接\n",
    "\n",
    "inner 内链接是 merge 合并的默认情况，inner 内连接其实也就是键的交集，在这里 df1, df2 相同的键是 name，所以是基于 name 字段做的连接"
   ]
  },
  {
   "cell_type": "code",
   "execution_count": 54,
   "metadata": {
    "tags": []
   },
   "outputs": [
    {
     "output_type": "stream",
     "name": "stdout",
     "text": "name  data1  data2\n0  ZhangFei      0      0\n1    GuanYu      1      1\n"
    }
   ],
   "source": [
    "df3 = pd.merge(df1, df2, how='inner')\n",
    "print(df3)"
   ]
  },
  {
   "cell_type": "markdown",
   "metadata": {},
   "source": [
    "3. left 左连接"
   ]
  },
  {
   "cell_type": "code",
   "execution_count": 55,
   "metadata": {
    "tags": []
   },
   "outputs": [
    {
     "output_type": "stream",
     "name": "stdout",
     "text": "name  data1  data2\n0  ZhangFei      0    0.0\n1    GuanYu      1    1.0\n2         a      2    NaN\n3         b      3    NaN\n4         c      4    NaN\n"
    }
   ],
   "source": [
    "df3 = pd.merge(df1, df2, how='left')\n",
    "print(df3)"
   ]
  },
  {
   "cell_type": "markdown",
   "metadata": {},
   "source": [
    "4. right 右连接"
   ]
  },
  {
   "cell_type": "code",
   "execution_count": 56,
   "metadata": {
    "tags": []
   },
   "outputs": [
    {
     "output_type": "stream",
     "name": "stdout",
     "text": "name  data1  data2\n0  ZhangFei    0.0      0\n1    GuanYu    1.0      1\n2         A    NaN      2\n3         B    NaN      3\n4         C    NaN      4\n"
    }
   ],
   "source": [
    "df3 = pd.merge(df1, df2, how='right')\n",
    "print(df3)"
   ]
  },
  {
   "cell_type": "markdown",
   "metadata": {},
   "source": [
    "5. outer 外连接"
   ]
  },
  {
   "cell_type": "code",
   "execution_count": 57,
   "metadata": {
    "tags": []
   },
   "outputs": [
    {
     "output_type": "stream",
     "name": "stdout",
     "text": "name  data1  data2\n0  ZhangFei    0.0    0.0\n1    GuanYu    1.0    1.0\n2         a    2.0    NaN\n3         b    3.0    NaN\n4         c    4.0    NaN\n5         A    NaN    2.0\n6         B    NaN    3.0\n7         C    NaN    4.0\n"
    }
   ],
   "source": [
    "df3 = pd.merge(df1, df2, how='outer')\n",
    "print(df3)"
   ]
  },
  {
   "cell_type": "markdown",
   "metadata": {},
   "source": [
    "## 如何用 SQL 方式打开 Pandas\n",
    "工具：pandasql"
   ]
  },
  {
   "cell_type": "code",
   "execution_count": 1,
   "metadata": {
    "tags": []
   },
   "outputs": [
    {
     "output_type": "stream",
     "name": "stdout",
     "text": "name  data1\n0  ZhangFei      0\n"
    }
   ],
   "source": [
    "\n",
    "import pandas as pd\n",
    "from pandas import DataFrame\n",
    "from pandasql import sqldf, load_meat, load_births\n",
    "df1 = DataFrame({'name':['ZhangFei', 'GuanYu', 'a', 'b', 'c'], 'data1':range(5)})\n",
    "# lambda argument_list: expression\n",
    "pysqldf = lambda sql: sqldf(sql, globals()) # 输入的参数是 sql，返回的结果是 sqldf 对 sql 的运行结果，当然 sqldf 中也输入了 globals 全局参数，因为在 sql 中有对全局参数 df1 的使用\n",
    "sql = \"select * from df1 where name ='ZhangFei'\"\n",
    "print (pysqldf(sql))"
   ]
  },
  {
   "cell_type": "code",
   "execution_count": null,
   "metadata": {},
   "outputs": [],
   "source": []
  }
 ],
 "metadata": {
  "language_info": {
   "codemirror_mode": {
    "name": "ipython",
    "version": 3
   },
   "file_extension": ".py",
   "mimetype": "text/x-python",
   "name": "python",
   "nbconvert_exporter": "python",
   "pygments_lexer": "ipython3",
   "version": "3.7.7-final"
  },
  "orig_nbformat": 2,
  "kernelspec": {
   "name": "venv",
   "display_name": "venv"
  }
 },
 "nbformat": 4,
 "nbformat_minor": 2
}