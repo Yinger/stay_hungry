{
 "cells": [
  {
   "cell_type": "markdown",
   "metadata": {},
   "source": [
    "# 如何处理异常\n",
    "* try\n",
    "* except\n",
    "* finally\n",
    "* 当程序中存在多个 except block 时，最多只有一个 except block 会被执行"
   ]
  },
  {
   "cell_type": "code",
   "execution_count": null,
   "metadata": {},
   "outputs": [],
   "source": [
    "\n",
    "# try:\n",
    "#     s = input('please enter two numbers separated by comma: ')\n",
    "#     num1 = int(s.split(',')[0].strip())\n",
    "#     num2 = int(s.split(',')[1].strip())\n",
    "#     ...\n",
    "# except ValueError as err:\n",
    "#     print('Value Error: {}'.format(err))\n",
    "# except IndexError as err:\n",
    "#     print('Index Error: {}'.format(err))\n",
    "# except Exception as err:\n",
    "#     print('Other error: {}'.format(err))\n",
    "\n",
    "# print('continue')\n",
    "# ...\n",
    "\n",
    "\n",
    "# import sys\n",
    "# try:\n",
    "#     f = open('file.txt', 'r')\n",
    "#     .... # some data processing\n",
    "# except OSError as err:\n",
    "#     print('OS error: {}'.format(err))\n",
    "# except:\n",
    "#     print('Unexpected error:', sys.exc_info()[0])\n",
    "# finally:\n",
    "#     f.close()"
   ]
  },
  {
   "cell_type": "markdown",
   "metadata": {},
   "source": [
    "# 用户自定义异常"
   ]
  },
  {
   "cell_type": "code",
   "execution_count": 2,
   "metadata": {
    "tags": []
   },
   "outputs": [
    {
     "output_type": "stream",
     "name": "stdout",
     "text": "error: 1 is invalid input\n"
    }
   ],
   "source": [
    "\n",
    "class MyInputError(Exception):\n",
    "    \"\"\"Exception raised when there're errors in input\"\"\"\n",
    "    def __init__(self, value): # 自定义异常类型的初始化\n",
    "        self.value = value\n",
    "    def __str__(self): # 自定义异常类型的string表达形式\n",
    "        return (\"{} is invalid input\".format(repr(self.value)))\n",
    "    \n",
    "try:\n",
    "    raise MyInputError(1) # 抛出MyInputError这个异常\n",
    "except MyInputError as err:\n",
    "    print('error: {}'.format(err))"
   ]
  },
  {
   "cell_type": "code",
   "execution_count": null,
   "metadata": {},
   "outputs": [],
   "source": []
  }
 ],
 "metadata": {
  "language_info": {
   "codemirror_mode": {
    "name": "ipython",
    "version": 3
   },
   "file_extension": ".py",
   "mimetype": "text/x-python",
   "name": "python",
   "nbconvert_exporter": "python",
   "pygments_lexer": "ipython3",
   "version": "3.7.7-final"
  },
  "orig_nbformat": 2,
  "kernelspec": {
   "name": "venv",
   "display_name": "venv"
  }
 },
 "nbformat": 4,
 "nbformat_minor": 2
}