{
 "cells": [
  {
   "cell_type": "markdown",
   "metadata": {},
   "source": [
    "##### 迭代器（iterator）提供了一个 next 的方法。调用这个方法后，你要么得到这个容器的下一个对象，要么得到一个 StopIteration 的错误\n",
    "##### 可迭代对象，通过 iter() 函数返回一个迭代器，再通过 next() 函数就可以实现遍历。for in 语句将这个过程隐式化，所以，你只需要知道它大概做了什么就行了\n",
    "##### 声明一个迭代器很简单, ```[i for i in range(100000000)]``` 就可以生成一个包含一亿元素的列表\n",
    "##### 生成器在 Python 的写法是用小括号括起来，```(i for i in range(100000000))```，即初始化了一个生成器。\n",
    "* return：在程序函数中返回某个值，返回之后函数不在继续执行，彻底结束。\n",
    "* yield: 带有yield的函数是一个迭代器，函数返回某个值时，会停留在某个位置，返回函数值后，会在前面停留的位置继续执行，直到程序结束。"
   ]
  },
  {
   "cell_type": "markdown",
   "metadata": {},
   "source": [
    "## 给定一个 list 和一个指定数字，求这个数字在 list 中的位置"
   ]
  },
  {
   "cell_type": "code",
   "execution_count": 1,
   "metadata": {
    "tags": []
   },
   "outputs": [
    {
     "output_type": "stream",
     "name": "stdout",
     "text": "[2, 5, 9]\n"
    }
   ],
   "source": [
    "def index_normal(L, target):\n",
    "    result = []\n",
    "    for i, num in enumerate(L):\n",
    "        if num == target:\n",
    "            result.append(i)\n",
    "    return result\n",
    "\n",
    "print(index_normal([1, 6, 2, 4, 5, 2, 8, 6, 3, 2], 2))"
   ]
  },
  {
   "cell_type": "code",
   "execution_count": 2,
   "metadata": {
    "tags": []
   },
   "outputs": [
    {
     "output_type": "stream",
     "name": "stdout",
     "text": "[2, 5, 9]\n"
    }
   ],
   "source": [
    "def index_generator(L, target):\n",
    "    for i, num in enumerate(L):\n",
    "        if num == target:\n",
    "            yield i\n",
    "\n",
    "print(list(index_generator([1, 6, 2, 4, 5, 2, 8, 6, 3, 2], 2)))"
   ]
  },
  {
   "cell_type": "markdown",
   "metadata": {},
   "source": [
    "## 给定两个序列，判定第一个是不是第二个的子序列"
   ]
  },
  {
   "cell_type": "code",
   "execution_count": 3,
   "metadata": {
    "tags": []
   },
   "outputs": [
    {
     "output_type": "stream",
     "name": "stdout",
     "text": "True\nFalse\n"
    }
   ],
   "source": [
    "\n",
    "def is_subsequence(a, b):\n",
    "    b = iter(b)\n",
    "    return all(i in b for i in a)\n",
    "\n",
    "print(is_subsequence([1, 3, 5], [1, 2, 3, 4, 5]))\n",
    "print(is_subsequence([1, 4, 3], [1, 2, 3, 4, 5]))"
   ]
  },
  {
   "cell_type": "code",
   "execution_count": 8,
   "metadata": {
    "tags": []
   },
   "outputs": [
    {
     "output_type": "stream",
     "name": "stdout",
     "text": "<list_iterator object at 0x000002DF530CE348>\n<generator object is_subsequence2.<locals>.<genexpr> at 0x000002DF53108948>\n1\n3\n5\n<generator object is_subsequence2.<locals>.<genexpr> at 0x000002DF53108F48>\nTrue\nTrue\nTrue\nFalse\n<list_iterator object at 0x000002DF530CEB48>\n<generator object is_subsequence2.<locals>.<genexpr> at 0x000002DF53108F48>\n1\n4\n3\n<generator object is_subsequence2.<locals>.<genexpr> at 0x000002DF531089C8>\nTrue\nTrue\nFalse\nFalse\n"
    }
   ],
   "source": [
    "\n",
    "def is_subsequence2(a, b):\n",
    "    b = iter(b) # 把列表 b 转化成了一个迭代器\n",
    "    print(b)\n",
    "\n",
    "    gen = (i for i in a) # 产生一个生成器，这个生成器可以遍历对象 a\n",
    "    print(gen) # 输出 1, 3, 5\n",
    "\n",
    "    for i in gen:\n",
    "        print(i)\n",
    "\n",
    "    # while True:\n",
    "    #     val = next(b)\n",
    "    #     if val == i:\n",
    "    #         yield True\n",
    "    gen = ((i in b) for i in a)\n",
    "    print(gen)\n",
    "\n",
    "    for i in gen:\n",
    "        print(i)\n",
    "\n",
    "    return all(((i in b) for i in a)) # all 用来判断一个迭代器的元素是否全部为 True，如果是则返回 True，否则就返回 False\n",
    "\n",
    "print(is_subsequence2([1, 3, 5], [1, 2, 3, 4, 5]))\n",
    "print(is_subsequence2([1, 4, 3], [1, 2, 3, 4, 5]))"
   ]
  },
  {
   "cell_type": "code",
   "execution_count": null,
   "metadata": {},
   "outputs": [],
   "source": []
  }
 ],
 "metadata": {
  "language_info": {
   "codemirror_mode": {
    "name": "ipython",
    "version": 3
   },
   "file_extension": ".py",
   "mimetype": "text/x-python",
   "name": "python",
   "nbconvert_exporter": "python",
   "pygments_lexer": "ipython3",
   "version": "3.7.7-final"
  },
  "orig_nbformat": 2,
  "kernelspec": {
   "name": "venv",
   "display_name": "venv"
  }
 },
 "nbformat": 4,
 "nbformat_minor": 2
}