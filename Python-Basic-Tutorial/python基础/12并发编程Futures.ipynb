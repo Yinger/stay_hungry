{
 "cells": [
  {
   "cell_type": "markdown",
   "metadata": {},
   "source": [
    "## 区分并发和并行\n",
    "* 并发（Concurrency）通常应用于 I/O 操作频繁的场景，比如你要从网站上下载多个文件，I/O 操作的时间可能会比 CPU 运行处理的时间长得多。\n",
    "* 并行（Parallelism）则更多应用于 CPU heavy 的场景，比如 MapReduce 中的并行计算，为了加快运行速度，一般会用多台机器、多个处理器来完成。"
   ]
  },
  {
   "cell_type": "markdown",
   "metadata": {},
   "source": [
    "### 单线程与多线程性能比较\n",
    "#### 假设我们有一个任务，是下载一些网站的内容并打印"
   ]
  },
  {
   "cell_type": "markdown",
   "metadata": {},
   "source": [
    "* 单线程\n",
    "    1. 先是遍历存储网站的列表；\n",
    "    2. 然后对当前网站执行下载操作；\n",
    "    3. 等到当前操作完成后，再对下一个网站进行同样的操作，一直到结束。"
   ]
  },
  {
   "cell_type": "code",
   "execution_count": 2,
   "metadata": {
    "tags": []
   },
   "outputs": [
    {
     "output_type": "stream",
     "name": "stdout",
     "text": "Read 189658 from https://en.wikipedia.org/wiki/Portal:Arts\nRead 195629 from https://en.wikipedia.org/wiki/Portal:History\nRead 242087 from https://en.wikipedia.org/wiki/Portal:Society\nRead 335213 from https://en.wikipedia.org/wiki/Portal:Biography\nRead 143121 from https://en.wikipedia.org/wiki/Portal:Mathematics\nRead 170746 from https://en.wikipedia.org/wiki/Portal:Technology\nRead 194867 from https://en.wikipedia.org/wiki/Portal:Geography\nRead 160215 from https://en.wikipedia.org/wiki/Portal:Science\nRead 344283 from https://en.wikipedia.org/wiki/Computer_science\nRead 431421 from https://en.wikipedia.org/wiki/Python_(programming_language)\nRead 327230 from https://en.wikipedia.org/wiki/Java_(programming_language)\nRead 491525 from https://en.wikipedia.org/wiki/PHP\nRead 183878 from https://en.wikipedia.org/wiki/Node.js\nRead 62420 from https://en.wikipedia.org/wiki/The_C_Programming_Language\nRead 322886 from https://en.wikipedia.org/wiki/Go_(programming_language)\nDownload 15 sites in 9.292193699999984 seconds\n"
    }
   ],
   "source": [
    "\n",
    "import requests\n",
    "import time\n",
    "\n",
    "def download_one(url):\n",
    "    resp = requests.get(url)\n",
    "    print('Read {} from {}'.format(len(resp.content), url))\n",
    "    \n",
    "def download_all(sites):\n",
    "    for site in sites:\n",
    "        download_one(site)\n",
    "\n",
    "def main():\n",
    "    sites = [\n",
    "        'https://en.wikipedia.org/wiki/Portal:Arts',\n",
    "        'https://en.wikipedia.org/wiki/Portal:History',\n",
    "        'https://en.wikipedia.org/wiki/Portal:Society',\n",
    "        'https://en.wikipedia.org/wiki/Portal:Biography',\n",
    "        'https://en.wikipedia.org/wiki/Portal:Mathematics',\n",
    "        'https://en.wikipedia.org/wiki/Portal:Technology',\n",
    "        'https://en.wikipedia.org/wiki/Portal:Geography',\n",
    "        'https://en.wikipedia.org/wiki/Portal:Science',\n",
    "        'https://en.wikipedia.org/wiki/Computer_science',\n",
    "        'https://en.wikipedia.org/wiki/Python_(programming_language)',\n",
    "        'https://en.wikipedia.org/wiki/Java_(programming_language)',\n",
    "        'https://en.wikipedia.org/wiki/PHP',\n",
    "        'https://en.wikipedia.org/wiki/Node.js',\n",
    "        'https://en.wikipedia.org/wiki/The_C_Programming_Language',\n",
    "        'https://en.wikipedia.org/wiki/Go_(programming_language)'\n",
    "    ]\n",
    "    start_time = time.perf_counter()\n",
    "    download_all(sites)\n",
    "    end_time = time.perf_counter()\n",
    "    print('Download {} sites in {} seconds'.format(len(sites), end_time - start_time))\n",
    "    \n",
    "if __name__ == '__main__':\n",
    "    main()"
   ]
  },
  {
   "cell_type": "markdown",
   "metadata": {},
   "source": [
    "* 多线程"
   ]
  },
  {
   "cell_type": "code",
   "execution_count": 3,
   "metadata": {
    "tags": []
   },
   "outputs": [
    {
     "output_type": "stream",
     "name": "stdout",
     "text": "Read 143121 from https://en.wikipedia.org/wiki/Portal:Mathematics\nRead 195629 from https://en.wikipedia.org/wiki/Portal:History\nRead 242087 from https://en.wikipedia.org/wiki/Portal:Society\nRead 335213 from https://en.wikipedia.org/wiki/Portal:Biography\nRead 189658 from https://en.wikipedia.org/wiki/Portal:Arts\nRead 194867 from https://en.wikipedia.org/wiki/Portal:Geography\nRead 170746 from https://en.wikipedia.org/wiki/Portal:Technology\nRead 160215 from https://en.wikipedia.org/wiki/Portal:Science\nRead 344283 from https://en.wikipedia.org/wiki/Computer_science\nRead 431421 from https://en.wikipedia.org/wiki/Python_(programming_language)\nRead 491525 from https://en.wikipedia.org/wiki/PHP\nRead 183878 from https://en.wikipedia.org/wiki/Node.js\nRead 62420 from https://en.wikipedia.org/wiki/The_C_Programming_Language\nRead 327230 from https://en.wikipedia.org/wiki/Java_(programming_language)\nRead 322886 from https://en.wikipedia.org/wiki/Go_(programming_language)\nDownload 15 sites in 1.6128245999999535 seconds\n"
    }
   ],
   "source": [
    "\n",
    "import concurrent.futures\n",
    "import requests\n",
    "import threading\n",
    "import time\n",
    "\n",
    "def download_one(url):\n",
    "    resp = requests.get(url)\n",
    "    print('Read {} from {}'.format(len(resp.content), url))\n",
    "\n",
    "\n",
    "def download_all(sites):\n",
    "    # with futures.ProcessPoolExecutor() as executor: # 并行方式\n",
    "    with concurrent.futures.ThreadPoolExecutor(max_workers=5) as executor: # 多线程方式 创建一个线程池，总共有 5 个线程可以分配使用\n",
    "        executor.map(download_one, sites) # executor.map 表示对 sites 中的每一个元素，并发地调用函数 download_one()\n",
    "\n",
    "def main():\n",
    "    sites = [\n",
    "        'https://en.wikipedia.org/wiki/Portal:Arts',\n",
    "        'https://en.wikipedia.org/wiki/Portal:History',\n",
    "        'https://en.wikipedia.org/wiki/Portal:Society',\n",
    "        'https://en.wikipedia.org/wiki/Portal:Biography',\n",
    "        'https://en.wikipedia.org/wiki/Portal:Mathematics',\n",
    "        'https://en.wikipedia.org/wiki/Portal:Technology',\n",
    "        'https://en.wikipedia.org/wiki/Portal:Geography',\n",
    "        'https://en.wikipedia.org/wiki/Portal:Science',\n",
    "        'https://en.wikipedia.org/wiki/Computer_science',\n",
    "        'https://en.wikipedia.org/wiki/Python_(programming_language)',\n",
    "        'https://en.wikipedia.org/wiki/Java_(programming_language)',\n",
    "        'https://en.wikipedia.org/wiki/PHP',\n",
    "        'https://en.wikipedia.org/wiki/Node.js',\n",
    "        'https://en.wikipedia.org/wiki/The_C_Programming_Language',\n",
    "        'https://en.wikipedia.org/wiki/Go_(programming_language)'\n",
    "    ]\n",
    "    start_time = time.perf_counter()\n",
    "    download_all(sites)\n",
    "    end_time = time.perf_counter()\n",
    "    print('Download {} sites in {} seconds'.format(len(sites), end_time - start_time))\n",
    "\n",
    "if __name__ == '__main__':\n",
    "    main()"
   ]
  },
  {
   "cell_type": "markdown",
   "metadata": {},
   "source": [
    "### Futures\n",
    "Python 中的 Futures 模块，位于 concurrent.futures 和 asyncio 中，它们都表示带有延迟的操作。Futures 会将处于等待状态的操作包裹起来放到队列中，这些操作的状态随时可以查询，当然，它们的结果或是异常，也能够在操作完成后被获取。\n",
    "* __Executor__ 类 当我们执行 executor.submit(func) 时，它便会安排里面的 func() 函数执行，并返回创建好的 future 实例，以便你之后查询调用。\n",
    "* __done__() 表示相对应的操作是否完成——True 表示完成，False 表示没有完成。不过，要注意，done() 是 non-blocking 的，会立即返回结果。相对应的 add_done_callback(fn)，则表示 Futures 完成后，相对应的参数函数 fn，会被通知并执行调用。\n",
    "* __result__() 表示当 future 完成后，返回其对应的结果或异常\n",
    "* __as_completed__(fs) 针对给定的 future 迭代器 fs，在其完成后，返回完成后的迭代器"
   ]
  },
  {
   "cell_type": "code",
   "execution_count": 5,
   "metadata": {
    "tags": []
   },
   "outputs": [
    {
     "output_type": "stream",
     "name": "stdout",
     "text": "Read 195629 from https://en.wikipedia.org/wiki/Portal:History\nRead 140754 from https://en.wikipedia.org/wiki/Portal:MathematicsRead 189658 from https://en.wikipedia.org/wiki/Portal:Arts\n\nRead 242087 from https://en.wikipedia.org/wiki/Portal:Society\nRead 335213 from https://en.wikipedia.org/wiki/Portal:Biography\nRead 160215 from https://en.wikipedia.org/wiki/Portal:Science\nRead 170968 from https://en.wikipedia.org/wiki/Portal:Technology\nRead 344283 from https://en.wikipedia.org/wiki/Computer_science\nRead 194867 from https://en.wikipedia.org/wiki/Portal:Geography\nRead 431421 from https://en.wikipedia.org/wiki/Python_(programming_language)\nRead 62420 from https://en.wikipedia.org/wiki/The_C_Programming_Language\nRead 491525 from https://en.wikipedia.org/wiki/PHP\nRead 327230 from https://en.wikipedia.org/wiki/Java_(programming_language)\nRead 183878 from https://en.wikipedia.org/wiki/Node.js\nRead 322886 from https://en.wikipedia.org/wiki/Go_(programming_language)\nDownload 15 sites in 1.6522311999999602 seconds\n"
    }
   ],
   "source": [
    "\n",
    "import concurrent.futures\n",
    "import requests\n",
    "import time\n",
    "\n",
    "def download_one(url):\n",
    "    resp = requests.get(url)\n",
    "    print('Read {} from {}'.format(len(resp.content), url))\n",
    "\n",
    "def download_all(sites):\n",
    "    with concurrent.futures.ThreadPoolExecutor(max_workers=5) as executor:\n",
    "        to_do = []\n",
    "        for site in sites:\n",
    "            future = executor.submit(download_one, site) # 调用 executor.submit()，将下载每一个网站的内容都放进 future 队列 to_do，等待执行\n",
    "            to_do.append(future)\n",
    "            \n",
    "        for future in concurrent.futures.as_completed(to_do): # as_completed() 函数，在 future 完成后，便输出结果\n",
    "            future.result()\n",
    "def main():\n",
    "    sites = [\n",
    "        'https://en.wikipedia.org/wiki/Portal:Arts',\n",
    "        'https://en.wikipedia.org/wiki/Portal:History',\n",
    "        'https://en.wikipedia.org/wiki/Portal:Society',\n",
    "        'https://en.wikipedia.org/wiki/Portal:Biography',\n",
    "        'https://en.wikipedia.org/wiki/Portal:Mathematics',\n",
    "        'https://en.wikipedia.org/wiki/Portal:Technology',\n",
    "        'https://en.wikipedia.org/wiki/Portal:Geography',\n",
    "        'https://en.wikipedia.org/wiki/Portal:Science',\n",
    "        'https://en.wikipedia.org/wiki/Computer_science',\n",
    "        'https://en.wikipedia.org/wiki/Python_(programming_language)',\n",
    "        'https://en.wikipedia.org/wiki/Java_(programming_language)',\n",
    "        'https://en.wikipedia.org/wiki/PHP',\n",
    "        'https://en.wikipedia.org/wiki/Node.js',\n",
    "        'https://en.wikipedia.org/wiki/The_C_Programming_Language',\n",
    "        'https://en.wikipedia.org/wiki/Go_(programming_language)'\n",
    "    ]\n",
    "    start_time = time.perf_counter()\n",
    "    download_all(sites)\n",
    "    end_time = time.perf_counter()\n",
    "    print('Download {} sites in {} seconds'.format(len(sites), end_time - start_time))\n",
    "\n",
    "if __name__ == '__main__':\n",
    "    main()"
   ]
  },
  {
   "cell_type": "markdown",
   "metadata": {},
   "source": [
    "## 全局解释器锁\n",
    "Python 的解释器并不是线程安全的，为了解决由此带来的 race condition 等问题，Python 便引入了全局解释器锁，也就是同一时刻，只允许一个线程执行。当然，在执行 I/O 操作时，如果一个线程被 block 了，全局解释器锁便会被释放，从而让另一个线程能够继续执行。"
   ]
  },
  {
   "cell_type": "code",
   "execution_count": null,
   "metadata": {},
   "outputs": [],
   "source": []
  }
 ],
 "metadata": {
  "language_info": {
   "codemirror_mode": {
    "name": "ipython",
    "version": 3
   },
   "file_extension": ".py",
   "mimetype": "text/x-python",
   "name": "python",
   "nbconvert_exporter": "python",
   "pygments_lexer": "ipython3",
   "version": "3.7.7-final"
  },
  "orig_nbformat": 2,
  "kernelspec": {
   "name": "venv",
   "display_name": "venv"
  }
 },
 "nbformat": 4,
 "nbformat_minor": 2
}